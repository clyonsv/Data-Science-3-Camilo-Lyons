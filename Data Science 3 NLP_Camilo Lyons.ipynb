{
 "cells": [
  {
   "cell_type": "markdown",
   "id": "624e943f",
   "metadata": {},
   "source": [
    "<h2 style=\"text-align:center;font-weight:bold;font-size:24px;\">Análisis de Noticias Financieras con NLP y Deep Learning: Predicción Bursátil y Detección de Información Falsa</h2>"
   ]
  },
  {
   "cell_type": "markdown",
   "id": "3bbdc71d",
   "metadata": {},
   "source": [
    "<h2 style=\"text-align:center;font-weight:bold;font-size:24px;\">Camilo A. Lyons Valero</h2>"
   ]
  },
  {
   "cell_type": "markdown",
   "id": "7f892e7d",
   "metadata": {},
   "source": [
    "**____________________________________________________________________________________________________________________________**"
   ]
  },
  {
   "cell_type": "markdown",
   "id": "bcfdf222",
   "metadata": {},
   "source": [
    "En los mercados financieros, las noticias impactan directamente en los precios de los activos y en la toma de decisiones de los inversionistas. Sin embargo, la gran cantidad de información disponible, junto con la proliferación de noticias falsas o engañosas, hace necesario el uso de técnicas avanzadas de Procesamiento de Lenguaje Natural (NLP) y Deep Learning para:\n",
    "\n",
    "- Analizar el sentimiento en noticias financieras.\n",
    "\n",
    "- Predecir movimientos bursátiles basados en el contenido textual.\n",
    "\n",
    "- Detectar posibles noticias falsas que puedan manipular el mercado.\n",
    "\n",
    "Este trabajo explora cómo modelos de redes neuronales y NLP pueden optimizar estas tareas, proporcionando herramientas para una inversión más informada y segura."
   ]
  },
  {
   "cell_type": "markdown",
   "id": "71c0edcf",
   "metadata": {},
   "source": [
    "<h3 style=\"text-align:center;font-weight:bold;\">IMPORTACIÓN DE LIBRERÍAS E INSTALACIONES NECESARIAS</h3>"
   ]
  },
  {
   "cell_type": "code",
   "execution_count": 1,
   "id": "e97d7ed5",
   "metadata": {},
   "outputs": [
    {
     "name": "stdout",
     "output_type": "stream",
     "text": [
      "Requirement already satisfied: spacy in c:\\users\\camilito\\anaconda3\\lib\\site-packages (3.8.4)\n",
      "Requirement already satisfied: spacy-legacy<3.1.0,>=3.0.11 in c:\\users\\camilito\\anaconda3\\lib\\site-packages (from spacy) (3.0.12)\n",
      "Requirement already satisfied: spacy-loggers<2.0.0,>=1.0.0 in c:\\users\\camilito\\anaconda3\\lib\\site-packages (from spacy) (1.0.5)\n",
      "Requirement already satisfied: murmurhash<1.1.0,>=0.28.0 in c:\\users\\camilito\\anaconda3\\lib\\site-packages (from spacy) (1.0.12)\n",
      "Requirement already satisfied: cymem<2.1.0,>=2.0.2 in c:\\users\\camilito\\anaconda3\\lib\\site-packages (from spacy) (2.0.11)\n",
      "Requirement already satisfied: preshed<3.1.0,>=3.0.2 in c:\\users\\camilito\\anaconda3\\lib\\site-packages (from spacy) (3.0.9)\n",
      "Requirement already satisfied: thinc<8.4.0,>=8.3.4 in c:\\users\\camilito\\anaconda3\\lib\\site-packages (from spacy) (8.3.4)\n",
      "Requirement already satisfied: wasabi<1.2.0,>=0.9.1 in c:\\users\\camilito\\anaconda3\\lib\\site-packages (from spacy) (1.1.3)\n",
      "Requirement already satisfied: srsly<3.0.0,>=2.4.3 in c:\\users\\camilito\\anaconda3\\lib\\site-packages (from spacy) (2.5.1)\n",
      "Requirement already satisfied: catalogue<2.1.0,>=2.0.6 in c:\\users\\camilito\\anaconda3\\lib\\site-packages (from spacy) (2.0.10)\n",
      "Requirement already satisfied: weasel<0.5.0,>=0.1.0 in c:\\users\\camilito\\anaconda3\\lib\\site-packages (from spacy) (0.4.1)\n",
      "Requirement already satisfied: typer<1.0.0,>=0.3.0 in c:\\users\\camilito\\anaconda3\\lib\\site-packages (from spacy) (0.15.2)\n",
      "Requirement already satisfied: tqdm<5.0.0,>=4.38.0 in c:\\users\\camilito\\anaconda3\\lib\\site-packages (from spacy) (4.65.0)\n",
      "Requirement already satisfied: numpy>=1.19.0 in c:\\users\\camilito\\anaconda3\\lib\\site-packages (from spacy) (1.26.4)\n",
      "Requirement already satisfied: requests<3.0.0,>=2.13.0 in c:\\users\\camilito\\anaconda3\\lib\\site-packages (from spacy) (2.31.0)\n",
      "Requirement already satisfied: pydantic!=1.8,!=1.8.1,<3.0.0,>=1.7.4 in c:\\users\\camilito\\anaconda3\\lib\\site-packages (from spacy) (1.10.8)\n",
      "Requirement already satisfied: jinja2 in c:\\users\\camilito\\anaconda3\\lib\\site-packages (from spacy) (3.1.2)\n",
      "Requirement already satisfied: setuptools in c:\\users\\camilito\\anaconda3\\lib\\site-packages (from spacy) (68.0.0)\n",
      "Requirement already satisfied: packaging>=20.0 in c:\\users\\camilito\\anaconda3\\lib\\site-packages (from spacy) (23.1)\n",
      "Requirement already satisfied: langcodes<4.0.0,>=3.2.0 in c:\\users\\camilito\\anaconda3\\lib\\site-packages (from spacy) (3.5.0)\n",
      "Requirement already satisfied: language-data>=1.2 in c:\\users\\camilito\\anaconda3\\lib\\site-packages (from langcodes<4.0.0,>=3.2.0->spacy) (1.3.0)\n",
      "Requirement already satisfied: typing-extensions>=4.2.0 in c:\\users\\camilito\\anaconda3\\lib\\site-packages (from pydantic!=1.8,!=1.8.1,<3.0.0,>=1.7.4->spacy) (4.7.1)\n",
      "Requirement already satisfied: charset-normalizer<4,>=2 in c:\\users\\camilito\\anaconda3\\lib\\site-packages (from requests<3.0.0,>=2.13.0->spacy) (2.0.4)\n",
      "Requirement already satisfied: idna<4,>=2.5 in c:\\users\\camilito\\anaconda3\\lib\\site-packages (from requests<3.0.0,>=2.13.0->spacy) (3.4)\n",
      "Requirement already satisfied: urllib3<3,>=1.21.1 in c:\\users\\camilito\\anaconda3\\lib\\site-packages (from requests<3.0.0,>=2.13.0->spacy) (1.26.16)\n",
      "Requirement already satisfied: certifi>=2017.4.17 in c:\\users\\camilito\\anaconda3\\lib\\site-packages (from requests<3.0.0,>=2.13.0->spacy) (2023.7.22)\n",
      "Requirement already satisfied: blis<1.3.0,>=1.2.0 in c:\\users\\camilito\\anaconda3\\lib\\site-packages (from thinc<8.4.0,>=8.3.4->spacy) (1.2.0)\n",
      "Requirement already satisfied: confection<1.0.0,>=0.0.1 in c:\\users\\camilito\\anaconda3\\lib\\site-packages (from thinc<8.4.0,>=8.3.4->spacy) (0.1.5)\n",
      "Requirement already satisfied: colorama in c:\\users\\camilito\\anaconda3\\lib\\site-packages (from tqdm<5.0.0,>=4.38.0->spacy) (0.4.6)\n",
      "Requirement already satisfied: click>=8.0.0 in c:\\users\\camilito\\anaconda3\\lib\\site-packages (from typer<1.0.0,>=0.3.0->spacy) (8.0.4)\n",
      "Requirement already satisfied: shellingham>=1.3.0 in c:\\users\\camilito\\anaconda3\\lib\\site-packages (from typer<1.0.0,>=0.3.0->spacy) (1.5.4)\n",
      "Requirement already satisfied: rich>=10.11.0 in c:\\users\\camilito\\anaconda3\\lib\\site-packages (from typer<1.0.0,>=0.3.0->spacy) (13.9.4)\n",
      "Requirement already satisfied: cloudpathlib<1.0.0,>=0.7.0 in c:\\users\\camilito\\anaconda3\\lib\\site-packages (from weasel<0.5.0,>=0.1.0->spacy) (0.21.0)\n",
      "Requirement already satisfied: smart-open<8.0.0,>=5.2.1 in c:\\users\\camilito\\anaconda3\\lib\\site-packages (from weasel<0.5.0,>=0.1.0->spacy) (5.2.1)\n",
      "Requirement already satisfied: MarkupSafe>=2.0 in c:\\users\\camilito\\anaconda3\\lib\\site-packages (from jinja2->spacy) (2.1.1)\n",
      "Requirement already satisfied: marisa-trie>=1.1.0 in c:\\users\\camilito\\anaconda3\\lib\\site-packages (from language-data>=1.2->langcodes<4.0.0,>=3.2.0->spacy) (1.2.1)\n",
      "Requirement already satisfied: markdown-it-py>=2.2.0 in c:\\users\\camilito\\anaconda3\\lib\\site-packages (from rich>=10.11.0->typer<1.0.0,>=0.3.0->spacy) (2.2.0)\n",
      "Requirement already satisfied: pygments<3.0.0,>=2.13.0 in c:\\users\\camilito\\anaconda3\\lib\\site-packages (from rich>=10.11.0->typer<1.0.0,>=0.3.0->spacy) (2.15.1)\n",
      "Requirement already satisfied: mdurl~=0.1 in c:\\users\\camilito\\anaconda3\\lib\\site-packages (from markdown-it-py>=2.2.0->rich>=10.11.0->typer<1.0.0,>=0.3.0->spacy) (0.1.0)\n",
      "Collecting en-core-web-sm==3.8.0\n",
      "  Downloading https://github.com/explosion/spacy-models/releases/download/en_core_web_sm-3.8.0/en_core_web_sm-3.8.0-py3-none-any.whl (12.8 MB)\n",
      "     ---------------------------------------- 0.0/12.8 MB ? eta -:--:--\n",
      "     --------------------------------------- 0.0/12.8 MB 320.0 kB/s eta 0:00:40\n",
      "     --------------------------------------- 0.1/12.8 MB 544.7 kB/s eta 0:00:24\n",
      "      --------------------------------------- 0.3/12.8 MB 2.0 MB/s eta 0:00:07\n",
      "     -- ------------------------------------- 0.9/12.8 MB 5.1 MB/s eta 0:00:03\n",
      "     --------- ------------------------------ 3.1/12.8 MB 14.2 MB/s eta 0:00:01\n",
      "     ----------------- ---------------------- 5.6/12.8 MB 21.1 MB/s eta 0:00:01\n",
      "     -------------------- ------------------- 6.5/12.8 MB 20.6 MB/s eta 0:00:01\n",
      "     --------------------------- ------------ 8.8/12.8 MB 24.5 MB/s eta 0:00:01\n",
      "     --------------------------------- ----- 10.9/12.8 MB 43.5 MB/s eta 0:00:01\n",
      "     --------------------------------------  12.8/12.8 MB 43.7 MB/s eta 0:00:01\n",
      "     --------------------------------------- 12.8/12.8 MB 36.4 MB/s eta 0:00:00\n",
      "\u001b[38;5;2m[+] Download and installation successful\u001b[0m\n",
      "You can now load the package via spacy.load('en_core_web_sm')\n",
      "Requirement already satisfied: spacy-lookups-data in c:\\users\\camilito\\anaconda3\\lib\\site-packages (1.0.5)\n",
      "Requirement already satisfied: setuptools in c:\\users\\camilito\\anaconda3\\lib\\site-packages (from spacy-lookups-data) (68.0.0)\n",
      "Requirement already satisfied: scikit-learn in c:\\users\\camilito\\anaconda3\\lib\\site-packages (1.3.0)\n",
      "Requirement already satisfied: textblob in c:\\users\\camilito\\anaconda3\\lib\\site-packages (0.19.0)\n",
      "Requirement already satisfied: pandas in c:\\users\\camilito\\anaconda3\\lib\\site-packages (2.0.3)\n",
      "Requirement already satisfied: numpy in c:\\users\\camilito\\anaconda3\\lib\\site-packages (1.26.4)\n",
      "Requirement already satisfied: matplotlib in c:\\users\\camilito\\anaconda3\\lib\\site-packages (3.7.2)\n",
      "Requirement already satisfied: seaborn in c:\\users\\camilito\\anaconda3\\lib\\site-packages (0.12.2)\n",
      "Requirement already satisfied: scipy>=1.5.0 in c:\\users\\camilito\\anaconda3\\lib\\site-packages (from scikit-learn) (1.11.1)\n",
      "Requirement already satisfied: joblib>=1.1.1 in c:\\users\\camilito\\anaconda3\\lib\\site-packages (from scikit-learn) (1.2.0)\n",
      "Requirement already satisfied: threadpoolctl>=2.0.0 in c:\\users\\camilito\\anaconda3\\lib\\site-packages (from scikit-learn) (2.2.0)\n",
      "Requirement already satisfied: nltk>=3.9 in c:\\users\\camilito\\anaconda3\\lib\\site-packages (from textblob) (3.9.1)\n",
      "Requirement already satisfied: python-dateutil>=2.8.2 in c:\\users\\camilito\\anaconda3\\lib\\site-packages (from pandas) (2.8.2)\n",
      "Requirement already satisfied: pytz>=2020.1 in c:\\users\\camilito\\anaconda3\\lib\\site-packages (from pandas) (2023.3.post1)\n",
      "Requirement already satisfied: tzdata>=2022.1 in c:\\users\\camilito\\anaconda3\\lib\\site-packages (from pandas) (2023.3)\n",
      "Requirement already satisfied: contourpy>=1.0.1 in c:\\users\\camilito\\anaconda3\\lib\\site-packages (from matplotlib) (1.0.5)\n",
      "Requirement already satisfied: cycler>=0.10 in c:\\users\\camilito\\anaconda3\\lib\\site-packages (from matplotlib) (0.11.0)\n",
      "Requirement already satisfied: fonttools>=4.22.0 in c:\\users\\camilito\\anaconda3\\lib\\site-packages (from matplotlib) (4.25.0)\n",
      "Requirement already satisfied: kiwisolver>=1.0.1 in c:\\users\\camilito\\anaconda3\\lib\\site-packages (from matplotlib) (1.4.4)\n",
      "Requirement already satisfied: packaging>=20.0 in c:\\users\\camilito\\anaconda3\\lib\\site-packages (from matplotlib) (23.1)\n",
      "Requirement already satisfied: pillow>=6.2.0 in c:\\users\\camilito\\anaconda3\\lib\\site-packages (from matplotlib) (9.4.0)\n",
      "Requirement already satisfied: pyparsing<3.1,>=2.3.1 in c:\\users\\camilito\\anaconda3\\lib\\site-packages (from matplotlib) (3.0.9)\n",
      "Requirement already satisfied: click in c:\\users\\camilito\\anaconda3\\lib\\site-packages (from nltk>=3.9->textblob) (8.0.4)\n",
      "Requirement already satisfied: regex>=2021.8.3 in c:\\users\\camilito\\anaconda3\\lib\\site-packages (from nltk>=3.9->textblob) (2022.7.9)\n",
      "Requirement already satisfied: tqdm in c:\\users\\camilito\\anaconda3\\lib\\site-packages (from nltk>=3.9->textblob) (4.65.0)\n",
      "Requirement already satisfied: six>=1.5 in c:\\users\\camilito\\anaconda3\\lib\\site-packages (from python-dateutil>=2.8.2->pandas) (1.16.0)\n",
      "Requirement already satisfied: colorama in c:\\users\\camilito\\anaconda3\\lib\\site-packages (from click->nltk>=3.9->textblob) (0.4.6)\n"
     ]
    }
   ],
   "source": [
    "!pip install spacy\n",
    "!python -m spacy download en_core_web_sm\n",
    "!pip install spacy-lookups-data\n",
    "!pip install scikit-learn textblob pandas numpy matplotlib seaborn\n"
   ]
  },
  {
   "cell_type": "code",
   "execution_count": 2,
   "id": "2fb2db99",
   "metadata": {},
   "outputs": [],
   "source": [
    "import pandas as pd\n",
    "import re\n",
    "import spacy\n",
    "from spacy.lang.en.stop_words import STOP_WORDS\n",
    "from collections import Counter\n",
    "from sklearn.feature_extraction.text import TfidfVectorizer\n",
    "from spacy.util import minibatch\n",
    "from sklearn.model_selection import train_test_split\n",
    "import random\n",
    "import matplotlib.pyplot as plt\n",
    "import seaborn as sns\n",
    "from textblob import TextBlob\n",
    "from sklearn.metrics import accuracy_score, classification_report\n",
    "from sklearn.neural_network import MLPClassifier\n",
    "from spacy.training import Example"
   ]
  },
  {
   "cell_type": "code",
   "execution_count": 3,
   "id": "22c3622d",
   "metadata": {
    "scrolled": true
   },
   "outputs": [],
   "source": [
    "ruta_del_archivo = \"https://raw.githubusercontent.com/clyonsv/Data-Science-3-Camilo-Lyons/main/Sentiment_Stock_data.csv\"\n",
    "df = pd.read_csv(ruta_del_archivo, sep=\",\")"
   ]
  },
  {
   "cell_type": "markdown",
   "id": "4d665813",
   "metadata": {},
   "source": [
    "#### Exploración inicial"
   ]
  },
  {
   "cell_type": "code",
   "execution_count": 4,
   "id": "2797de66",
   "metadata": {
    "scrolled": true
   },
   "outputs": [
    {
     "name": "stdout",
     "output_type": "stream",
     "text": [
      "📊 Primeras filas del dataset:\n",
      "   Unnamed: 0  Sentiment                                           Sentence\n",
      "0           0          0  According to Gran , the company has no plans t...\n",
      "1           1          1  For the last quarter of 2010 , Componenta 's n...\n",
      "2           2          1  In the third quarter of 2010 , net sales incre...\n",
      "3           3          1  Operating profit rose to EUR 13.1 mn from EUR ...\n",
      "4           4          1  Operating profit totalled EUR 21.1 mn , up fro...\n",
      "\n",
      "📋 Información del dataset:\n",
      "<class 'pandas.core.frame.DataFrame'>\n",
      "RangeIndex: 108751 entries, 0 to 108750\n",
      "Data columns (total 3 columns):\n",
      " #   Column      Non-Null Count   Dtype \n",
      "---  ------      --------------   ----- \n",
      " 0   Unnamed: 0  108751 non-null  int64 \n",
      " 1   Sentiment   108751 non-null  int64 \n",
      " 2   Sentence    108750 non-null  object\n",
      "dtypes: int64(2), object(1)\n",
      "memory usage: 2.5+ MB\n",
      "None\n",
      "\n",
      "🔍 Distribución de sentimientos:\n",
      "Sentiment\n",
      "1    0.512409\n",
      "0    0.487591\n",
      "Name: proportion, dtype: float64\n"
     ]
    }
   ],
   "source": [
    "print(\"📊 Primeras filas del dataset:\")\n",
    "print(df.head())\n",
    "\n",
    "print(\"\\n📋 Información del dataset:\")\n",
    "print(df.info())\n",
    "\n",
    "print(\"\\n🔍 Distribución de sentimientos:\")\n",
    "print(df['Sentiment'].value_counts(normalize=True))"
   ]
  },
  {
   "cell_type": "markdown",
   "id": "7c35b8c8",
   "metadata": {},
   "source": [
    "Teniendo en cuenta lo anterior, el dataset en su forma inicial presenta unas buenas condiciones, donde la gran mayoria de datos no estan nulos o vacios, presentan un tipo de dato acorde, y ademas, su variable categorica principal (sentiment) se encuentra balanceada."
   ]
  },
  {
   "cell_type": "markdown",
   "id": "fb44aba1",
   "metadata": {},
   "source": [
    "<h3 style=\"text-align:center;font-weight:bold;\">NLP Y PREPROCESAMIENTO</h3>"
   ]
  },
  {
   "cell_type": "markdown",
   "id": "9afa8328",
   "metadata": {},
   "source": [
    "#### Regex - Tokenización"
   ]
  },
  {
   "cell_type": "code",
   "execution_count": 5,
   "id": "97a7ea0d",
   "metadata": {},
   "outputs": [
    {
     "name": "stdout",
     "output_type": "stream",
     "text": [
      "\n",
      "✅ Texto limpio y tokenizado:\n",
      "                                            Sentence  \\\n",
      "0  According to Gran , the company has no plans t...   \n",
      "1  For the last quarter of 2010 , Componenta 's n...   \n",
      "2  In the third quarter of 2010 , net sales incre...   \n",
      "3  Operating profit rose to EUR 13.1 mn from EUR ...   \n",
      "4  Operating profit totalled EUR 21.1 mn , up fro...   \n",
      "\n",
      "                                        cleaned_text  \\\n",
      "0  according to gran the company has no plans to ...   \n",
      "1  for the last quarter of componenta s net sales...   \n",
      "2  in the third quarter of net sales increased by...   \n",
      "3  operating profit rose to eur mn from eur mn in...   \n",
      "4  operating profit totalled eur mn up from eur m...   \n",
      "\n",
      "                                         tokens_text  \n",
      "0  according gran company plans production russia...  \n",
      "1  quarter componenta s net sales doubled eurm eu...  \n",
      "2  quarter net sales increased eur mn operating p...  \n",
      "3  operating profit rose eur mn eur mn correspond...  \n",
      "4  operating profit totalled eur mn eur mn repres...  \n"
     ]
    }
   ],
   "source": [
    "nlp = spacy.load(\"en_core_web_sm\")\n",
    "\n",
    "def limpiar_texto(texto):\n",
    "    texto = texto.lower()  # Minúsculas\n",
    "    texto = re.sub(r\"http\\S+|www\\S+|https\\S+\", '', texto)  # Eliminar URLs\n",
    "    texto = re.sub(r\"[^\\w\\s]\", '', texto)  # Eliminar caracteres especiales\n",
    "    texto = re.sub(r\"\\d+\", '', texto)  # Eliminar números\n",
    "    texto = re.sub(r\"\\s+\", ' ', texto).strip()  # Eliminar espacios múltiples\n",
    "    return texto\n",
    "\n",
    "df['cleaned_text'] = df['Sentence'].astype(str).apply(limpiar_texto)\n",
    "\n",
    "# Tokenización y eliminación de stopwords\n",
    "def tokenizar_y_remover_stopwords(texto):\n",
    "    doc = nlp(texto)\n",
    "    tokens = [token.text for token in doc if not token.is_stop and token.is_alpha]\n",
    "    return \" \".join(tokens)\n",
    "\n",
    "df['tokens_text'] = df['cleaned_text'].apply(tokenizar_y_remover_stopwords)\n",
    "\n",
    "print(\"\\n✅ Texto limpio y tokenizado:\")\n",
    "print(df[['Sentence', 'cleaned_text', 'tokens_text']].head())"
   ]
  },
  {
   "cell_type": "markdown",
   "id": "245e8029",
   "metadata": {},
   "source": [
    "#### Lematización y análisis gramatical con spaCy"
   ]
  },
  {
   "cell_type": "code",
   "execution_count": 6,
   "id": "679fe9ac",
   "metadata": {},
   "outputs": [
    {
     "name": "stdout",
     "output_type": "stream",
     "text": [
      "\n",
      "📌 POS tags y entidades nombradas:\n",
      "                                        cleaned_text  \\\n",
      "0  according to gran the company has no plans to ...   \n",
      "1  for the last quarter of componenta s net sales...   \n",
      "2  in the third quarter of net sales increased by...   \n",
      "3  operating profit rose to eur mn from eur mn in...   \n",
      "4  operating profit totalled eur mn up from eur m...   \n",
      "\n",
      "                                            pos_tags  \\\n",
      "0  [VERB, ADP, VERB, DET, NOUN, VERB, DET, NOUN, ...   \n",
      "1  [ADP, DET, ADJ, NOUN, ADP, PROPN, PART, ADJ, N...   \n",
      "2  [ADP, DET, ADJ, NOUN, ADP, ADJ, NOUN, VERB, AD...   \n",
      "3  [NOUN, NOUN, VERB, ADP, PROPN, PROPN, ADP, PRO...   \n",
      "4  [NOUN, NOUN, VERB, PROPN, PROPN, ADV, ADP, PRO...   \n",
      "\n",
      "                                            entities  \n",
      "0                                    [(russia, GPE)]  \n",
      "1  [(the last quarter, DATE), (the same period a ...  \n",
      "2                        [(the third quarter, DATE)]  \n",
      "3                                                 []  \n",
      "4                                                 []  \n"
     ]
    }
   ],
   "source": [
    "def lematizar_texto(texto):\n",
    "    doc = nlp(texto)\n",
    "    lemas = [token.lemma_ for token in doc if not token.is_stop and token.is_alpha]\n",
    "    return \" \".join(lemas)\n",
    "\n",
    "df['lemmas_text'] = df['cleaned_text'].apply(lematizar_texto)\n",
    "\n",
    "# Análisis gramatical (POS tagging y NER)\n",
    "def analizar_gramatica(texto):\n",
    "    doc = nlp(texto)\n",
    "    pos_tags = [token.pos_ for token in doc]\n",
    "    entidades = [(ent.text, ent.label_) for ent in doc.ents]\n",
    "    return pos_tags, entidades\n",
    "\n",
    "df['pos_tags'], df['entities'] = zip(*df['cleaned_text'].apply(analizar_gramatica))\n",
    "\n",
    "print(\"\\n📌 POS tags y entidades nombradas:\")\n",
    "print(df[['cleaned_text', 'pos_tags', 'entities']].head())"
   ]
  },
  {
   "cell_type": "markdown",
   "id": "c53112c6",
   "metadata": {},
   "source": [
    "#### Extracción de características"
   ]
  },
  {
   "cell_type": "code",
   "execution_count": 7,
   "id": "0af40d8e",
   "metadata": {},
   "outputs": [
    {
     "name": "stdout",
     "output_type": "stream",
     "text": [
      "\n",
      "🔍 Palabras más frecuentes:\n",
      "[('say', 5475), ('new', 4002), ('year', 3552), ('world', 3086), ('kill', 2655), ('s', 2423), ('government', 2376), ('eur', 2273), ('police', 2206), ('people', 2141)]\n",
      "\n",
      "🏷️ Entidades nombradas más frecuentes:\n",
      "[('GPE', 34463), ('NORP', 22253), ('PERSON', 18742), ('ORG', 16499), ('DATE', 11181)]\n"
     ]
    }
   ],
   "source": [
    "from sklearn.feature_extraction.text import TfidfVectorizer\n",
    "from collections import Counter\n",
    "\n",
    "# TF-IDF\n",
    "vectorizer = TfidfVectorizer(max_features=5000)\n",
    "X_tfidf = vectorizer.fit_transform(df['lemmas_text'])\n",
    "\n",
    "# Frecuencia de palabras\n",
    "palabras_frecuentes = Counter(\" \".join(df['lemmas_text']).split()).most_common(10)\n",
    "print(\"\\n🔍 Palabras más frecuentes:\")\n",
    "print(palabras_frecuentes)\n",
    "\n",
    "# Frecuencia de entidades nombradas\n",
    "entidades_frecuentes = Counter([ent[1] for sublist in df['entities'] for ent in sublist]).most_common(5)\n",
    "print(\"\\n🏷️ Entidades nombradas más frecuentes:\")\n",
    "print(entidades_frecuentes)"
   ]
  },
  {
   "cell_type": "markdown",
   "id": "f96e5cea",
   "metadata": {},
   "source": [
    "<h3 style=\"text-align:center;font-weight:bold;\">ANALISIS DE SENTIMIENTO CON SPACY</h3>"
   ]
  },
  {
   "cell_type": "code",
   "execution_count": 8,
   "id": "047211a5",
   "metadata": {
    "scrolled": true
   },
   "outputs": [
    {
     "name": "stdout",
     "output_type": "stream",
     "text": [
      "Época 1, Pérdida: 135.7901\n",
      "Época 2, Pérdida: 130.3536\n",
      "Época 3, Pérdida: 116.1066\n",
      "📘 Accuracy en entrenamiento: 77.13%\n",
      "📗 Accuracy en prueba: 52.72%\n",
      "\n",
      "📋 Reporte de clasificación en prueba:\n",
      "\n",
      "              precision    recall  f1-score   support\n",
      "\n",
      "           0       0.52      0.47      0.49      8517\n",
      "           1       0.53      0.58      0.56      8884\n",
      "\n",
      "    accuracy                           0.53     17401\n",
      "   macro avg       0.53      0.53      0.53     17401\n",
      "weighted avg       0.53      0.53      0.53     17401\n",
      "\n"
     ]
    }
   ],
   "source": [
    "nlp = spacy.load(\"en_core_web_sm\")\n",
    "\n",
    "if \"attribute_ruler\" in nlp.pipe_names:\n",
    "    nlp.remove_pipe(\"attribute_ruler\")\n",
    "\n",
    "if \"tagger\" not in nlp.pipe_names:\n",
    "    nlp.add_pipe(\"tagger\")\n",
    "\n",
    "if \"lemmatizer\" in nlp.pipe_names:\n",
    "    nlp.remove_pipe(\"lemmatizer\")\n",
    "\n",
    "muestra_df = df.sample(frac=0.8, random_state=42)\n",
    "\n",
    "train_df, test_df = train_test_split(muestra_df, test_size=0.2, random_state=42)\n",
    "\n",
    "train_data = []\n",
    "for text, label in zip(train_df['lemmas_text'], train_df['Sentiment']):\n",
    "    doc = nlp.make_doc(text)\n",
    "    cats = {\"POSITIVE\": label == 1, \"NEGATIVE\": label == 0}\n",
    "    example = Example.from_dict(doc, {\"cats\": cats})\n",
    "    train_data.append(example)\n",
    "\n",
    "config = {\n",
    "    \"model\": {\n",
    "        \"@architectures\": \"spacy.TextCatCNN.v1\",\n",
    "        \"tok2vec\": {  \n",
    "            \"@architectures\": \"spacy.Tok2Vec.v2\",\n",
    "            \"embed\": {\n",
    "                \"@architectures\": \"spacy.MultiHashEmbed.v2\",\n",
    "                \"width\": 64,\n",
    "                \"rows\": [2000, 2000, 2000, 2000],  \n",
    "                \"attrs\": [\"NORM\", \"PREFIX\", \"SUFFIX\", \"SHAPE\"],\n",
    "                \"include_static_vectors\": False,\n",
    "            },\n",
    "            \"encode\": {\n",
    "                \"@architectures\": \"spacy.MaxoutWindowEncoder.v2\",\n",
    "                \"width\": 64,\n",
    "                \"window_size\": 1,\n",
    "                \"maxout_pieces\": 3,\n",
    "                \"depth\": 2,\n",
    "            },\n",
    "        },\n",
    "        \"exclusive_classes\": True,\n",
    "    }\n",
    "}\n",
    "\n",
    "if \"textcat\" not in nlp.pipe_names:\n",
    "    textcat = nlp.add_pipe(\"textcat\", config=config, last=True)\n",
    "else:\n",
    "    textcat = nlp.get_pipe(\"textcat\")\n",
    "\n",
    "textcat.add_label(\"POSITIVE\")\n",
    "textcat.add_label(\"NEGATIVE\")\n",
    "\n",
    "optimizer = nlp.initialize()\n",
    "for epoch in range(3):  \n",
    "    random.shuffle(train_data)\n",
    "    losses = {}\n",
    "    for batch in minibatch(train_data, size=128):  \n",
    "        nlp.update(batch, sgd=optimizer, losses=losses)\n",
    "    print(f\"Época {epoch + 1}, Pérdida: {losses['textcat']:.4f}\")\n",
    "\n",
    "def predecir_sentimiento_spacy(texto):\n",
    "    doc = nlp(texto)\n",
    "    return 1 if doc.cats[\"POSITIVE\"] > doc.cats[\"NEGATIVE\"] else 0\n",
    "\n",
    "train_df['sentimiento_spacy'] = train_df['lemmas_text'].apply(predecir_sentimiento_spacy)\n",
    "accuracy_train = accuracy_score(train_df['Sentiment'], train_df['sentimiento_spacy'])\n",
    "print(f\"📘 Accuracy en entrenamiento: {accuracy_train:.2%}\")\n",
    "\n",
    "test_df['sentimiento_spacy'] = test_df['lemmas_text'].apply(predecir_sentimiento_spacy)\n",
    "accuracy_test = accuracy_score(test_df['Sentiment'], test_df['sentimiento_spacy'])\n",
    "print(f\"📗 Accuracy en prueba: {accuracy_test:.2%}\")\n",
    "\n",
    "print(\"\\n📋 Reporte de clasificación en prueba:\\n\")\n",
    "print(classification_report(test_df['Sentiment'], test_df['sentimiento_spacy']))"
   ]
  },
  {
   "cell_type": "markdown",
   "id": "baa39e01",
   "metadata": {},
   "source": [
    "### Análisis de resultados"
   ]
  },
  {
   "cell_type": "markdown",
   "id": "a35b17fb",
   "metadata": {},
   "source": [
    "Se desarrolló un clasificador de sentimientos utilizando spaCy para predecir si una noticia bursátil es positiva (las acciones subirán) o negativa/neutral (las acciones bajarán). El proceso incluyó la limpieza y preprocesamiento del texto (tokenización, eliminación de stopwords y lematización). Durante el entrenamiento, se observó que el modelo presentaba un sobreajuste, con una precisión en entrenamiento del 76.34% y una precisión en prueba del 52.20%. Esto sugiere que el modelo aprendió patrones específicos de los datos de entrenamiento pero no generalizó bien a datos nuevos.\n",
    "\n",
    "Se realizaron varias modificaciones para mejorar el rendimiento, como ajustar el tamaño del lote, verificar que el dataset se encontrara balanceado, reducir el número de épocas y agregar regularización. Sin embargo, estas mejoras no lograron cerrar la brecha entre el rendimiento en entrenamiento y prueba. Los posibles motivos incluyen la complejidad del lenguaje en las noticias financieras, la falta de embeddings preentrenados específicos del dominio, o la necesidad de un modelo más avanzado. Como mejora futura, se recomienda explorar el uso de embeddings preentrenados y modelos basados en transformers para capturar mejor el significado semántico del texto."
   ]
  },
  {
   "cell_type": "markdown",
   "id": "02dff80b",
   "metadata": {},
   "source": [
    "<h3 style=\"text-align:center;font-weight:bold;\">ANALISIS DE SENTIMIENTO CON TEXTBLOB</h3>"
   ]
  },
  {
   "cell_type": "code",
   "execution_count": 9,
   "id": "da44c071",
   "metadata": {},
   "outputs": [
    {
     "name": "stdout",
     "output_type": "stream",
     "text": [
      "📦 Accuracy de TextBlob (umbral ajustado): 49.49%\n",
      "\n",
      "📋 Reporte de clasificación de TextBlob (umbral ajustado):\n",
      "\n",
      "              precision    recall  f1-score   support\n",
      "\n",
      "           0       0.49      0.85      0.62     53026\n",
      "           1       0.52      0.15      0.24     55725\n",
      "\n",
      "    accuracy                           0.49    108751\n",
      "   macro avg       0.51      0.50      0.43    108751\n",
      "weighted avg       0.51      0.49      0.43    108751\n",
      "\n"
     ]
    }
   ],
   "source": [
    "def clasificar_sentimiento_textblob(texto, umbral_positivo=0.1, umbral_negativo=-0.1):\n",
    "    blob = TextBlob(texto)\n",
    "    polaridad = blob.sentiment.polarity\n",
    "    if polaridad > umbral_positivo:\n",
    "        return 1  # Positivo\n",
    "    elif polaridad < umbral_negativo:\n",
    "        return 0  # Negativo\n",
    "    else:\n",
    "        return 0  # Neutral (mapeado a negativo)\n",
    "\n",
    "df['sentimiento_textblob'] = df['lemmas_text'].apply(clasificar_sentimiento_textblob)\n",
    "\n",
    "accuracy_textblob = accuracy_score(df['Sentiment'], df['sentimiento_textblob'])\n",
    "print(f\"📦 Accuracy de TextBlob (umbral ajustado): {accuracy_textblob:.2%}\")\n",
    "\n",
    "# Reporte de clasificación\n",
    "print(\"\\n📋 Reporte de clasificación de TextBlob (umbral ajustado):\\n\")\n",
    "print(classification_report(df['Sentiment'], df['sentimiento_textblob']))"
   ]
  },
  {
   "cell_type": "markdown",
   "id": "3189994d",
   "metadata": {},
   "source": [
    "### Polaridad de 10 registros aleatorios"
   ]
  },
  {
   "cell_type": "code",
   "execution_count": 10,
   "id": "3964b6f8",
   "metadata": {},
   "outputs": [
    {
     "name": "stdout",
     "output_type": "stream",
     "text": [
      "📊 Muestra aleatoria de registros con polaridad y predicción de TextBlob:\n",
      "                                              lemmas_text  Sentiment  \\\n",
      "40298                    chip change mean cheap apple mac          0   \n",
      "71358        uk health inequality severe great depression          1   \n",
      "50395    mark gould welfaretowork scheme sheffield israel          0   \n",
      "78368   thousand find stateless dominican republic pas...          0   \n",
      "103927             nasa announce discovery flow water mar          0   \n",
      "32204                                            nominate          1   \n",
      "75161   russia billion rearmament plan bear sharpen to...          0   \n",
      "51338               parttimer bear brunt clearout nhs job          1   \n",
      "46824                           hannah pool broad palette          0   \n",
      "79007   australia new zealand airlift equipment pacifi...          0   \n",
      "\n",
      "        sentimiento_textblob  polaridad_textblob  \n",
      "40298                    0.0            0.043750  \n",
      "71358                    1.0            0.800000  \n",
      "50395                    0.0            0.000000  \n",
      "78368                    1.0            0.146591  \n",
      "103927                   0.0            0.000000  \n",
      "32204                    0.0            0.000000  \n",
      "75161                    0.0           -0.131818  \n",
      "51338                    0.0            0.000000  \n",
      "46824                    0.0            0.062500  \n",
      "79007                    1.0            0.136364  \n"
     ]
    }
   ],
   "source": [
    "def clasificar_sentimiento_textblob(texto, umbral_positivo=0.1, umbral_negativo=-0.1):\n",
    "    blob = TextBlob(texto)\n",
    "    polaridad = blob.sentiment.polarity\n",
    "    if polaridad > umbral_positivo:\n",
    "        return 1, polaridad  # Positivo\n",
    "    elif polaridad < umbral_negativo:\n",
    "        return 0, polaridad  # Negativo\n",
    "    else:\n",
    "        return 0, polaridad  # Neutral (mapeado a negativo)\n",
    "\n",
    "df[['sentimiento_textblob', 'polaridad_textblob']] = df['lemmas_text'].apply(\n",
    "    lambda x: pd.Series(clasificar_sentimiento_textblob(x))\n",
    ")\n",
    "\n",
    "muestra_aleatoria = df.sample(10, random_state=42)[['lemmas_text', 'Sentiment', 'sentimiento_textblob', 'polaridad_textblob']]\n",
    "\n",
    "print(\"📊 Muestra aleatoria de registros con polaridad y predicción de TextBlob:\")\n",
    "print(muestra_aleatoria)"
   ]
  },
  {
   "cell_type": "markdown",
   "id": "f2c85076",
   "metadata": {},
   "source": [
    "#### Comparativa"
   ]
  },
  {
   "cell_type": "code",
   "execution_count": 11,
   "id": "64b13832",
   "metadata": {
    "scrolled": true
   },
   "outputs": [
    {
     "name": "stdout",
     "output_type": "stream",
     "text": [
      "📊 Comparación de Accuracy:\n",
      "- TextBlob (umbral ajustado): 49.49%\n",
      "- spaCy: 52.20%\n"
     ]
    },
    {
     "data": {
      "image/png": "[encoded data removed]",
      "text/plain": [
       "<Figure size 640x480 with 1 Axes>"
      ]
     },
     "metadata": {},
     "output_type": "display_data"
    }
   ],
   "source": [
    "import matplotlib.pyplot as plt\n",
    "\n",
    "accuracy_textblob = 0.4949 \n",
    "accuracy_spacy = 0.5220   \n",
    "\n",
    "print(f\"📊 Comparación de Accuracy:\")\n",
    "print(f\"- TextBlob (umbral ajustado): {accuracy_textblob:.2%}\")\n",
    "print(f\"- spaCy: {accuracy_spacy:.2%}\")\n",
    "\n",
    "plt.bar(['TextBlob (umbral ajustado)', 'spaCy'], [accuracy_textblob, accuracy_spacy], color=['blue', 'green'])\n",
    "plt.title(\"Comparación de Accuracy: TextBlob vs spaCy\")\n",
    "plt.ylabel(\"Accuracy\")\n",
    "plt.ylim(0, 1)\n",
    "plt.show()"
   ]
  },
  {
   "cell_type": "markdown",
   "id": "b9f8f25f",
   "metadata": {},
   "source": [
    "La comparación muestra claramente que spaCy es superior a TextBlob para esta tarea. Sin embargo, el rendimiento de spaCy aún puede mejorarse con técnicas como el uso de embeddings preentrenados o modelos más avanzados (por ejemplo, transformers). TextBlob, por otro lado, no es recomendable para tareas complejas como la clasificación de sentimientos en noticias financieras."
   ]
  },
  {
   "cell_type": "markdown",
   "id": "262eaea7",
   "metadata": {},
   "source": [
    "TextBlob (umbral ajustado):\n",
    "\n",
    "La precisión mejoró al 49.49% después de ajustar el umbral de clasificación. Sin embargo, el recall para la clase 1 (positiva) es muy bajo (0.15), lo que indica que TextBlob tiene dificultades para identificar noticias positivas.\n",
    "\n",
    "spaCy:\n",
    "\n",
    "La precisión es ligeramente superior (52.20%), lo que sugiere que es un enfoque más adecuado. Aunque spaCy tiene un mejor rendimiento general, todavía hay margen de mejora, especialmente en la generalización."
   ]
  },
  {
   "cell_type": "markdown",
   "id": "4ff90010",
   "metadata": {},
   "source": [
    "<h3 style=\"text-align:center;font-weight:bold;\">NLP COMO DETECTOR DE NOTICIAS FALSAS</h3>"
   ]
  },
  {
   "cell_type": "markdown",
   "id": "3fbea9f0",
   "metadata": {},
   "source": [
    "A pesar de no tener un dataset etiquetado, es decir con una columna que indique explicitamente si una noticia es falsa o no por medio de una variable categorica. Es posible crear un detector básico de noticias falsas a través de combinar la polaridad de TextBlob con el análisis de entidades de spaCy. La idea principal es identificar entidades que podrian ser sospechosas, y en conjunto con la polaridad, generar un detector de cuales noticias podrian ser falsas."
   ]
  },
  {
   "cell_type": "code",
   "execution_count": 12,
   "id": "75a969f8",
   "metadata": {
    "scrolled": true
   },
   "outputs": [
    {
     "name": "stdout",
     "output_type": "stream",
     "text": [
      "\n",
      "🔍 RESULTADOS DE DETECCIÓN 🔍\n",
      "==================================================\n",
      "                                            Sentence                    fake_news_detection\n",
      "0              Apple claims their new iPhone is safe                     Noticia verificada\n",
      "1  The government is hiding the truth about vaccines      Advertencia: Contenido sospechoso\n",
      "2          Scientists confirm climate change is real                     Noticia verificada\n",
      "3       Mark Zuckerberg gives free money on Facebook      Advertencia: Contenido sospechoso\n",
      "4                    Reuters reports economic growth  Noticia verificada (fuente confiable)\n",
      "\n",
      "📊 DISTRIBUCIÓN:\n",
      "fake_news_detection\n",
      "Noticia verificada                       2\n",
      "Advertencia: Contenido sospechoso        2\n",
      "Noticia verificada (fuente confiable)    1\n",
      "Name: count, dtype: int64\n",
      "\n",
      "⚠️ EJEMPLO DE CRITERIOS EN NOTICIAS SOSPECHOSAS:\n",
      "\n",
      "📌 Texto: The government is hiding the truth about vaccines\n",
      "🔍 Criterios: {'neutral': True, 'subjetivo': False, 'entidades_sospechosas': False, 'patrones_riesgo': True, 'lenguaje_manipulativo': True, 'fuente_confiable': False}\n",
      "\n",
      "📌 Texto: Mark Zuckerberg gives free money on Facebook\n",
      "🔍 Criterios: {'neutral': False, 'subjetivo': True, 'entidades_sospechosas': True, 'patrones_riesgo': True, 'lenguaje_manipulativo': False, 'fuente_confiable': False}\n"
     ]
    }
   ],
   "source": [
    "data = {\n",
    "    'Sentence': [\n",
    "        \"Apple claims their new iPhone is safe\",  # Neutral, ORG (verificada)\n",
    "        \"The government is hiding the truth about vaccines\",  # Fake news\n",
    "        \"Scientists confirm climate change is real\",  # Noticia real\n",
    "        \"Mark Zuckerberg gives free money on Facebook\",  # Fake news\n",
    "        \"Reuters reports economic growth\"  # Fuente confiable\n",
    "    ],\n",
    "    'Sentiment': [1, 0, 1, 1, 1],  # 1=Positivo, 0=Negativo\n",
    "    'lemmas_text': [\n",
    "        \"apple claim new iphone safe\",\n",
    "        \"government hide truth vaccine\",\n",
    "        \"scientist confirm climate change real\",\n",
    "        \"mark zuckerberg give free money facebook\",\n",
    "        \"reuters report economic growth\"\n",
    "    ]\n",
    "}\n",
    "\n",
    "df = pd.DataFrame(data)\n",
    "\n",
    "nlp = spacy.load(\"en_core_web_sm\")\n",
    "\n",
    "PATRONES_SOSPECHOSOS = [\n",
    "    r\"hide|hiding|ocultar\",\n",
    "    r\"truth about\",\n",
    "    r\"free money\",\n",
    "    r\"government lie\",\n",
    "    r\"they don't want you to know\"\n",
    "]\n",
    "\n",
    "VERBOS_SOSPECHOSOS = {\"hide\", \"lie\", \"fake\", \"cover\", \"deny\"}\n",
    "FUENTES_VERIFICADAS = {\"reuters\", \"bbc\", \"associated press\", \"the new york times\"}\n",
    "\n",
    "def contiene_patrones(texto):\n",
    "    return any(re.search(patron, texto, re.IGNORECASE) for patron in PATRONES_SOSPECHOSOS)\n",
    "\n",
    "def analizar_entidades(doc):\n",
    "    entidades = {\"ORG\": set(), \"PERSON\": set(), \"fuente_confiable\": False}\n",
    "    for ent in doc.ents:\n",
    "        if ent.label_ in entidades:\n",
    "            entidades[ent.label_].add(ent.text)\n",
    "            if ent.label_ == \"ORG\" and ent.text.lower() in FUENTES_VERIFICADAS:\n",
    "                entidades[\"fuente_confiable\"] = True\n",
    "    return entidades\n",
    "\n",
    "def detectar_noticia_falsa(texto):\n",
    "    try:\n",
    "        blob = TextBlob(texto)\n",
    "        polaridad, subjetividad = blob.sentiment.polarity, blob.sentiment.subjectivity\n",
    "        doc = nlp(texto)\n",
    "        \n",
    "        entidades = analizar_entidades(doc)\n",
    "        lenguaje_manipulativo = any(\n",
    "            token.lemma_ in VERBOS_SOSPECHOSOS \n",
    "            for token in doc \n",
    "            if token.pos_ == \"VERB\"\n",
    "        )\n",
    "        \n",
    "        criterios = {\n",
    "            \"neutral\": abs(polaridad) < 0.1,\n",
    "            \"subjetivo\": subjetividad > 0.65,\n",
    "            \"entidades_sospechosas\": bool(entidades[\"ORG\"] or entidades[\"PERSON\"]),\n",
    "            \"patrones_riesgo\": contiene_patrones(texto),\n",
    "            \"lenguaje_manipulativo\": lenguaje_manipulativo,\n",
    "            \"fuente_confiable\": entidades[\"fuente_confiable\"]\n",
    "        }\n",
    "        \n",
    "        if criterios[\"fuente_confiable\"]:\n",
    "            return \"Noticia verificada (fuente confiable)\", criterios\n",
    "        elif sum(criterios.values()) >= 4:\n",
    "            return \"ALTO RIESGO: Posible noticia falsa\", criterios\n",
    "        elif sum(criterios.values()) >= 2:\n",
    "            return \"Advertencia: Contenido sospechoso\", criterios\n",
    "        else:\n",
    "            return \"Noticia verificada\", criterios\n",
    "    except Exception as e:\n",
    "        print(f\"Error procesando texto: {texto}\\nError: {e}\")\n",
    "        return \"Error en análisis\", {}\n",
    "\n",
    "resultados = df['lemmas_text'].apply(detectar_noticia_falsa)\n",
    "df[['fake_news_detection', 'criterios']] = pd.DataFrame(resultados.tolist(), index=df.index)\n",
    "\n",
    "print(\"\\n🔍 RESULTADOS DE DETECCIÓN 🔍\")\n",
    "print(\"=\"*50)\n",
    "print(df[['Sentence', 'fake_news_detection']].to_string())\n",
    "\n",
    "print(\"\\n📊 DISTRIBUCIÓN:\")\n",
    "print(df['fake_news_detection'].value_counts())\n",
    "\n",
    "print(\"\\n⚠️ EJEMPLO DE CRITERIOS EN NOTICIAS SOSPECHOSAS:\")\n",
    "for idx, row in df[df['fake_news_detection'].str.contains(\"RIESGO|Advertencia\")].iterrows():\n",
    "    print(f\"\\n📌 Texto: {row['Sentence']}\")\n",
    "    print(f\"🔍 Criterios: {row['criterios']}\")"
   ]
  },
  {
   "cell_type": "markdown",
   "id": "336baf59",
   "metadata": {},
   "source": [
    "-----"
   ]
  },
  {
   "cell_type": "markdown",
   "id": "d5f5598b",
   "metadata": {},
   "source": [
    "En esta parte del proyecto, se desarrolló un detector de noticias falsas basado en análisis de lenguaje natural (NLP) que combina múltiples señales para identificar contenido sospechoso. Se implementaron las siguientes técnicas clave:\n",
    "\n",
    "1. Patrones Lingüísticos Sospechosos: Se definieron expresiones comunes en fake news (ej: \"hide the truth\", \"free money\") para detectar frases manipulativas.\n",
    "\n",
    "2. Análisis de Entidades (NER): Se identificaron organizaciones (ORG) y personas (PERSON) que suelen ser mencionadas en noticias falsas, pero también se contrastaron con fuentes verificadas (ej: Reuters).\n",
    "\n",
    "3. Subjetividad y Polaridad: Se usó TextBlob para medir si el texto era neutral (polaridad ≈ 0) y subjetivo (umbral > 0.65), características típicas de desinformación.\n",
    "\n",
    "4. Verbos Manipulativos: Se buscaron términos como \"ocultar\" o \"negar\" en combinación con entidades relevantes.\n",
    "\n",
    "Conclusiones\n",
    "Los resultados muestran que el sistema clasificó correctamente ejemplos típicos de fake news (ej: \"Mark Zuckerberg da dinero gratis\") como \"Contenido sospechoso\", basándose en su alta subjetividad y patrones engañosos. Sin embargo, también se observó que algunos criterios (como la neutralidad) pueden generar falsos positivos en noticias reales con lenguaje objetivo."
   ]
  },
  {
   "cell_type": "markdown",
   "id": "f80c2544",
   "metadata": {},
   "source": [
    "<h3 style=\"text-align:center;font-weight:bold;\">RED NEURONAL SIMPLE</h3>"
   ]
  },
  {
   "cell_type": "code",
   "execution_count": 15,
   "id": "2472eefe",
   "metadata": {},
   "outputs": [
    {
     "name": "stdout",
     "output_type": "stream",
     "text": [
      "\n",
      "⚡ Entrenando modelo optimizado...\n",
      "Iteration 1, loss = 0.69041321\n",
      "Validation score: 0.532529\n",
      "Iteration 2, loss = 0.67478093\n",
      "Validation score: 0.531954\n",
      "Iteration 3, loss = 0.66048835\n",
      "Validation score: 0.535747\n",
      "Iteration 4, loss = 0.64672002\n",
      "Validation score: 0.531379\n",
      "Iteration 5, loss = 0.63137932\n",
      "Validation score: 0.532299\n",
      "Iteration 6, loss = 0.61333774\n",
      "Validation score: 0.532529\n",
      "Iteration 7, loss = 0.59209288\n",
      "Validation score: 0.533678\n",
      "Iteration 8, loss = 0.56769026\n",
      "Validation score: 0.529655\n",
      "Iteration 9, loss = 0.54100996\n",
      "Validation score: 0.534368\n",
      "Iteration 10, loss = 0.51250941\n",
      "Validation score: 0.534828\n",
      "Iteration 11, loss = 0.48276063\n",
      "Validation score: 0.537126\n",
      "Iteration 12, loss = 0.45301188\n",
      "Validation score: 0.537356\n",
      "Iteration 13, loss = 0.42409064\n",
      "Validation score: 0.540575\n",
      "Iteration 14, loss = 0.39646099\n",
      "Validation score: 0.541379\n",
      "Iteration 15, loss = 0.37062681\n",
      "Validation score: 0.546437\n",
      "Iteration 16, loss = 0.34653890\n",
      "Validation score: 0.543793\n",
      "Iteration 17, loss = 0.32397429\n",
      "Validation score: 0.542759\n",
      "Iteration 18, loss = 0.30412501\n",
      "Validation score: 0.542644\n",
      "Iteration 19, loss = 0.28518359\n",
      "Validation score: 0.542184\n",
      "Iteration 20, loss = 0.26849122\n",
      "Validation score: 0.541034\n",
      "Iteration 21, loss = 0.25339226\n",
      "Validation score: 0.541494\n",
      "Iteration 22, loss = 0.23959053\n",
      "Validation score: 0.544713\n",
      "Iteration 23, loss = 0.22753958\n",
      "Validation score: 0.540690\n",
      "Iteration 24, loss = 0.21646428\n",
      "Validation score: 0.541264\n",
      "Iteration 25, loss = 0.20609008\n",
      "Validation score: 0.540000\n",
      "Iteration 26, loss = 0.19726384\n",
      "Validation score: 0.543218\n",
      "Validation score did not improve more than tol=0.000100 for 10 consecutive epochs. Stopping.\n",
      "\n",
      "✅ Métricas finales:\n",
      "Accuracy en test: 0.5337471264367816\n",
      "\n",
      "Reporte completo:\n",
      "              precision    recall  f1-score   support\n",
      "\n",
      "           0       0.53      0.47      0.49     10630\n",
      "           1       0.54      0.60      0.57     11120\n",
      "\n",
      "    accuracy                           0.53     21750\n",
      "   macro avg       0.53      0.53      0.53     21750\n",
      "weighted avg       0.53      0.53      0.53     21750\n",
      "\n"
     ]
    }
   ],
   "source": [
    "ruta = \"https://raw.githubusercontent.com/clyonsv/Data-Science-3-Camilo-Lyons/main/Sentiment_Stock_data.csv\"\n",
    "df = pd.read_csv(ruta, sep=\",\", usecols=['Sentence', 'Sentiment'])\n",
    "df = df.dropna().copy() \n",
    "df['Sentence'] = df['Sentence'].astype(str)\n",
    "\n",
    "vectorizer = TfidfVectorizer(\n",
    "    max_features=3000,  \n",
    "    ngram_range=(1, 1),\n",
    "    stop_words='english',\n",
    "    sublinear_tf=True \n",
    ")\n",
    "X = vectorizer.fit_transform(df['Sentence'])\n",
    "y = df['Sentiment']\n",
    "\n",
    "model = MLPClassifier(\n",
    "    hidden_layer_sizes=(100,), \n",
    "    activation='relu',\n",
    "    solver='adam',\n",
    "    alpha=0.0001, \n",
    "    batch_size=512,\n",
    "    learning_rate='adaptive',  \n",
    "    max_iter=150,\n",
    "    early_stopping=True, \n",
    "    validation_fraction=0.1, \n",
    "    random_state=42,\n",
    "    verbose=True\n",
    ")\n",
    "\n",
    "X_train, X_test, y_train, y_test = train_test_split(X, y, test_size=0.2, random_state=42)\n",
    "\n",
    "print(\"\\n⚡ Entrenando modelo optimizado...\")\n",
    "model.fit(X_train, y_train)\n",
    "\n",
    "print(\"\\n✅ Métricas finales:\")\n",
    "print(\"Accuracy en test:\", model.score(X_test, y_test))\n",
    "print(\"\\nReporte completo:\")\n",
    "print(classification_report(y_test, model.predict(X_test)))"
   ]
  }
 ],
 "metadata": {
  "kernelspec": {
   "display_name": "Python 3 (ipykernel)",
   "language": "python",
   "name": "python3"
  },
  "language_info": {
   "codemirror_mode": {
    "name": "ipython",
    "version": 3
   },
   "file_extension": ".py",
   "mimetype": "text/x-python",
   "name": "python",
   "nbconvert_exporter": "python",
   "pygments_lexer": "ipython3",
   "version": "3.11.5"
  }
 },
 "nbformat": 4,
 "nbformat_minor": 5
}
